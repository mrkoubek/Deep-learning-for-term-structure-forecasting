{
 "cells": [
  {
   "cell_type": "markdown",
   "metadata": {},
   "source": [
    "# Master Thesis\n",
    "## Saving models docs\n",
    "### v1.0 - resources for proper saving and loading of keras models"
   ]
  },
  {
   "cell_type": "markdown",
   "metadata": {},
   "source": [
    "## Sort out:\n",
    "\n",
    "For saving the models, there are various approaches. So far the HDF5 method looks the best overall candidate."
   ]
  },
  {
   "cell_type": "markdown",
   "metadata": {},
   "source": [
    "## Saving, loading, evaluating model\n",
    "\n",
    "* [evaluate function | R Documentation](https://www.rdocumentation.org/packages/keras/versions/2.0.5/topics/evaluate)\n",
    "* [Error in do.call(object$evaluate, args) : 'what' must be a function or character string · Issue #505 · rstudio/keras](https://github.com/rstudio/keras/issues/505)\n",
    "* [Tutorial: Save and Restore Models](https://tensorflow.rstudio.com/tutorials/beginners/basic-ml/tutorial_save_and_restore/)\n",
    "* [How to Save and Load Your Keras Deep Learning Model](https://machinelearningmastery.com/save-load-keras-deep-learning-models/)\n",
    "* [How to save and load a model with Keras? – MachineCurve](https://www.machinecurve.com/index.php/2020/02/14/how-to-save-and-load-a-model-with-keras/)"
   ]
  },
  {
   "cell_type": "markdown",
   "metadata": {},
   "source": [
    "## Workspace management\n",
    "\n",
    "* [project - Combining or merging workspaces in R and general workspace management - Stack Overflow](https://stackoverflow.com/questions/12760397/combining-or-merging-workspaces-in-r-and-general-workspace-management)\n",
    "* [Load and save single objects to workspaces in R/R-Studio - Stack Overflow](https://stackoverflow.com/questions/15433172/load-and-save-single-objects-to-workspaces-in-r-r-studio)"
   ]
  }
 ],
 "metadata": {
  "kernelspec": {
   "display_name": "R",
   "language": "R",
   "name": "ir"
  },
  "language_info": {
   "codemirror_mode": "r",
   "file_extension": ".r",
   "mimetype": "text/x-r-source",
   "name": "R",
   "pygments_lexer": "r",
   "version": "3.6.1"
  }
 },
 "nbformat": 4,
 "nbformat_minor": 4
}
