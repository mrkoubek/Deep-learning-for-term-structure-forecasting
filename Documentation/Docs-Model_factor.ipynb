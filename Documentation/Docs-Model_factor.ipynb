{
 "cells": [
  {
   "cell_type": "markdown",
   "metadata": {},
   "source": [
    "# Master Thesis\n",
    "## Factor models docs\n",
    "### v1.0 - gathering resources for factor models"
   ]
  },
  {
   "cell_type": "markdown",
   "metadata": {},
   "source": [
    "## Sorted:\n",
    "Available packages in R to take inspiration from:\n",
    " - [YieldCurve](https://cran.r-project.org/web/packages/YieldCurve/YieldCurve.pdf)\n",
    "    - [Nelson.Siegel](https://www.rdocumentation.org/packages/YieldCurve/versions/4.1/topics/Nelson.Siegel) function, its code [here](https://rdrr.io/rforge/YieldCurve/src/R/Nelson.Siegel.R)"
   ]
  },
  {
   "cell_type": "markdown",
   "metadata": {},
   "source": [
    "## Sort out:"
   ]
  },
  {
   "cell_type": "markdown",
   "metadata": {},
   "source": [
    "## Factor models in R\n",
    "\n",
    "* [DEnss.pdf](https://cran.r-project.org/web/packages/NMOF/vignettes/DEnss.pdf)\n",
    "* [download.cgi](https://editorialexpress.com/cgi-bin/conference/download.cgi?db_name=XVIEBFIN&paper_id=33)\n",
    "* [Forecasting the yield curve with the arbitrage-free dynamic Nelson–Siegel model: Brazilian evidence - ScienceDirect](https://www.sciencedirect.com/science/article/pii/S1517758016300789)\n",
    "* [Calibrating the Dynamic Nelson-Siegel Model: A Practitioner Approach - Munich Personal RePEc Archive](https://mpra.ub.uni-muenchen.de/68439/)\n",
    "* [ijfs-06-00068.pdf](file:///E:/Google_Drive/Diploma_Thesis/Sources/Random_Google/Factor%20models/ijfs-06-00068.pdf)\n",
    "* [The Nelson-Siegel Model: Present Application and Alternative Lambda Determination](file:///E:/Google_Drive/Diploma_Thesis/Sources/Random_Google/Factor%20models/BPTX_2013_2_11230_0_387924_0_151485.pdf)\n"
   ]
  }
 ],
 "metadata": {
  "kernelspec": {
   "display_name": "R",
   "language": "R",
   "name": "ir"
  },
  "language_info": {
   "codemirror_mode": "r",
   "file_extension": ".r",
   "mimetype": "text/x-r-source",
   "name": "R",
   "pygments_lexer": "r",
   "version": "3.6.1"
  }
 },
 "nbformat": 4,
 "nbformat_minor": 4
}
