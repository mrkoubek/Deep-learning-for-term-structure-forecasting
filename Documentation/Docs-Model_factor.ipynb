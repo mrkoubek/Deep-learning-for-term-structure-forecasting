{
 "cells": [
  {
   "cell_type": "markdown",
   "metadata": {},
   "source": [
    "# Master Thesis\n",
    "## Factor models docs\n",
    "### v1.1 - description of the YieldCurve package example"
   ]
  },
  {
   "cell_type": "markdown",
   "metadata": {},
   "source": [
    "We need the data in a format with maturities in columns, and observations in rows. That is, we need to column bind together the maturities we have - 2Y, 5Y, 10Y, 30Y. "
   ]
  },
  {
   "cell_type": "code",
   "execution_count": 9,
   "metadata": {},
   "outputs": [
    {
     "name": "stderr",
     "output_type": "stream",
     "text": [
      "Warning message:\n",
      "\"index class is Date, which does not support timezones.\n",
      "Expected 'UTC' timezone, but indexTZ is ''\""
     ]
    },
    {
     "data": {
      "text/plain": [
       "            R_3M  R_6M  R_1Y  R_2Y  R_3Y  R_5Y  R_7Y R_10Y\n",
       "1981-12-31 12.92 13.90 14.32 14.57 14.64 14.65 14.67 14.59\n",
       "1982-01-31 14.28 14.81 14.73 14.82 14.73 14.54 14.46 14.43\n",
       "1982-02-28 13.31 13.83 13.95 14.19 14.13 13.98 13.93 13.86\n",
       "1982-03-31 13.34 13.87 13.98 14.20 14.18 14.00 13.94 13.87\n",
       "1982-04-30 12.71 13.13 13.34 13.78 13.77 13.75 13.74 13.62\n",
       "1982-05-31 13.08 13.76 14.07 14.47 14.48 14.43 14.47 14.30"
      ]
     },
     "metadata": {},
     "output_type": "display_data"
    }
   ],
   "source": [
    "# Example from package YieldCurve\n",
    "pacman::p_load(YieldCurve)\n",
    "data(FedYieldCurve) # Fed data set\n",
    "head(FedYieldCurve) # maturities in columns, observations in rows"
   ]
  },
  {
   "cell_type": "markdown",
   "metadata": {},
   "source": [
    "We may also benefit from the dataset being in the xts format as is the case in the example of YieldCurve package, but if not necessary we'll try to avoid preliminary complexity or optimalisation."
   ]
  },
  {
   "cell_type": "markdown",
   "metadata": {},
   "source": [
    "After the dataset is in such a form, we can fit the Nelson-Siegel function and get its parameters."
   ]
  },
  {
   "cell_type": "code",
   "execution_count": 16,
   "metadata": {},
   "outputs": [
    {
     "name": "stderr",
     "output_type": "stream",
     "text": [
      "Warning message:\n",
      "\"index class is Date, which does not support timezones.\n",
      "Expected 'UTC' timezone, but indexTZ is ''\""
     ]
    },
    {
     "data": {
      "text/plain": [
       "             beta_0    beta_1    beta_2    lambda\n",
       "2012-06-30 5.942878 -5.805087 -5.918784 0.1839190\n",
       "2012-07-31 6.007142 -5.890642 -5.770203 0.1938867\n",
       "2012-08-31 6.877328 -6.739946 -6.945611 0.1839190\n",
       "2012-09-30 6.752246 -6.624800 -6.609233 0.1839190\n",
       "2012-10-31 6.292996 -6.173300 -6.111852 0.1839190\n",
       "2012-11-30 6.590762 -6.496260 -6.364102 0.1839190"
      ]
     },
     "metadata": {},
     "output_type": "display_data"
    }
   ],
   "source": [
    "maturity.Fed <- c(3/12, 0.5, 1,2,3,5,7,10) # define maturities\n",
    "NSParameters <- Nelson.Siegel(rate=FedYieldCurve,\n",
    "                               maturity=maturity.Fed)\n",
    "tail(NSParameters)"
   ]
  },
  {
   "cell_type": "markdown",
   "metadata": {},
   "source": [
    "Once we have the parameters, we can train the NNs on these parameters as a predictive task. As we can see, we obtain 3 beta coefficients and lambda."
   ]
  },
  {
   "cell_type": "markdown",
   "metadata": {},
   "source": [
    "#### termstrc package\n",
    "The package has been removed from CRAN since 2018."
   ]
  },
  {
   "cell_type": "code",
   "execution_count": 2,
   "metadata": {},
   "outputs": [
    {
     "name": "stderr",
     "output_type": "stream",
     "text": [
      "Installing package into 'C:/Users/Juggle/Documents/R/win-library/3.6'\n",
      "(as 'lib' is unspecified)\n",
      "Warning message:\n",
      "\"package 'termstrc' is not available (for R version 3.6.1)\"Warning message:\n",
      "\"unable to access index for repository http://www.stats.ox.ac.uk/pub/RWin/bin/windows/contrib/3.6:\n",
      "  cannot open URL 'http://www.stats.ox.ac.uk/pub/RWin/bin/windows/contrib/3.6/PACKAGES'\""
     ]
    }
   ],
   "source": [
    "# Example from package termstrc\n",
    "install.packages('termstrc')"
   ]
  },
  {
   "cell_type": "code",
   "execution_count": 4,
   "metadata": {},
   "outputs": [
    {
     "name": "stderr",
     "output_type": "stream",
     "text": [
      "Installing package into 'C:/Users/Juggle/Documents/R/win-library/3.6'\n",
      "(as 'lib' is unspecified)\n",
      "Warning message in install.packages(\"termstrc_1.3.7.tar.gz\", repos = NULL, type = \"source\"):\n",
      "\"installation of package 'termstrc_1.3.7.tar.gz' had non-zero exit status\""
     ]
    }
   ],
   "source": [
    "install.packages(\"termstrc_1.3.7.tar.gz\", repos=NULL, type=\"source\")"
   ]
  },
  {
   "cell_type": "code",
   "execution_count": 6,
   "metadata": {},
   "outputs": [
    {
     "name": "stderr",
     "output_type": "stream",
     "text": [
      "Warning message in utils::untar(tarfile, ...):\n",
      "\"'tar.exe -xf \"C:\\Users\\Juggle\\AppData\\Local\\Temp\\RtmpohuGNP\\file35e0440965b9/termstrc_1.3.7.tar.gz\" -C \"C:/Users/Juggle/AppData/Local/Temp/RtmpohuGNP/remotes35e0113fc2c\"' returned error code 1\""
     ]
    },
    {
     "ename": "ERROR",
     "evalue": "Error: Failed to install 'termstrc' from local:\n  Does not appear to be an R package (no DESCRIPTION)\n",
     "output_type": "error",
     "traceback": [
      "Error: Failed to install 'termstrc' from local:\n  Does not appear to be an R package (no DESCRIPTION)\nTraceback:\n",
      "1. devtools::install_local(\"termstrc_1.3.7.tar.gz\")",
      "2. pkgbuild::with_build_tools({\n .     ellipsis::check_dots_used(action = getOption(\"devtools.ellipsis_action\", \n .         rlang::warn))\n .     {\n .         remotes <- lapply(path, local_remote, subdir = subdir)\n .         install_remotes(remotes, dependencies = dependencies, \n .             upgrade = upgrade, force = force, quiet = quiet, \n .             build = build, build_opts = build_opts, build_manual = build_manual, \n .             build_vignettes = build_vignettes, repos = repos, \n .             type = type, ...)\n .     }\n . }, required = FALSE)",
      "3. withr::with_path(rtools_path(), code)",
      "4. force(code)",
      "5. install_remotes(remotes, dependencies = dependencies, upgrade = upgrade, \n .     force = force, quiet = quiet, build = build, build_opts = build_opts, \n .     build_manual = build_manual, build_vignettes = build_vignettes, \n .     repos = repos, type = type, ...)",
      "6. tryCatch(res[[i]] <- install_remote(remotes[[i]], ...), error = function(e) {\n .     stop(remote_install_error(remotes[[i]], e))\n . })",
      "7. tryCatchList(expr, classes, parentenv, handlers)",
      "8. tryCatchOne(expr, names, parentenv, handlers[[1L]])",
      "9. value[[3L]](cond)"
     ]
    }
   ],
   "source": [
    "devtools::install_local(\"termstrc_1.3.7.tar.gz\")"
   ]
  },
  {
   "cell_type": "markdown",
   "metadata": {},
   "source": [
    "We need to build the package from source, from the archive file from CRAN.\n",
    " - https://cran.r-project.org/src/contrib/Archive/termstrc/\n",
    " - https://stackoverflow.com/questions/51679500/termstrc-was-removed-from-cran-tried-installing-from-tar-file-how-do-i-ins\n",
    " - on Win compile w/ Rtools: https://www.biostat.wisc.edu/~kbroman/Rintro/Rwinpack.html"
   ]
  },
  {
   "cell_type": "markdown",
   "metadata": {},
   "source": [
    "library(termstrc)\n",
    "data(eurobonds)\n",
    "Step 2: Set the parameters of the function termstrc as required\n",
    "countries <- c(\" GERMANY \", \" AUSTRIA \", \" ITALY \")\n",
    "bonddata <- eurobonds\n",
    "maturity _ spectrum <- \"all\"\n",
    "method <- \" Nelson / Siegel \"\n",
    "fit <- \" prices \"\n",
    "weights <- \" duration \"\n",
    "control <- list ( eval .max =100000)\n",
    "b <- matrix (c (0.02547394 , -0.012162592 , -0.02547394 , 1 ,\n",
    "0.02611532 , -0.011367422 , -0.02611532 , 1,\n",
    "0.02578871 , -0.015207250 , -0.02578871 , 1) ,\n",
    "nrow =3 , ncol =4 , byrow = TRUE )\n",
    "rownames (b ) <- countries\n",
    "colnames (b ) <- c(\" beta0 \",\" beta1 \",\" beta2 \",\" tau1 \")\n",
    "Step 3: Assign the function\n",
    "myres <- termstrc _ estim ( countries , bonddata , maturity _ spectrum ,\n",
    "method , fit , weights , startparam =b , control )\n",
    "Step 4: Use the S3 print method to get the optimised parameter set\n",
    "print ( myres )\n",
    "---------------------------------------------------\n",
    "Parameters for single-curve estimation:\n",
    "Method: Nelson/Siegel\n",
    "Fitted: prices\n",
    "Weights: duration\n",
    "---------------------------------------------------\n",
    "GERMANY AUSTRIA ITALY\n",
    "beta_0 0.04153832 0.04228676 0.04599300\n",
    "beta_1 -0.01699020 -0.01813795 -0.02089901\n",
    "beta_2 -0.01326502 -0.01208279 -0.01874076\n",
    "tau_1 2.20819586 2.48874374 2.36039421\n",
    "Step 5: Use the S3 summary method to get the goodness of fit test and the convergence information\n",
    "summary ( myres )\n",
    "12 termstrc: A Package for Term Structure Estimation with R\n",
    "---------------------------------------------------\n",
    "Goodness of fit tests:\n",
    "---------------------------------------------------\n",
    "GERMANY AUSTRIA ITALY\n",
    "RMSE-Prices 0.2852092109 0.0606758664 0.1588754369\n",
    "AABSE-Prices 0.1629764768 0.0416447015 0.1041235559\n",
    "RMSE-Yields 0.0004808922 0.0003668975 0.0007122635\n",
    "AABSE-Yields 0.0004177424 0.0002694297 0.0006036436\n",
    "Convergence info\n",
    "GERMANY \"relative convergence (4)\"\n",
    "AUSTRIA \"relative convergence (4)\"\n",
    "ITALY \"relative convergence (4)\"\n",
    "Step 6: Use the S3 plot method to generate different plots of the termstructure and the spreadcurves. By default the zero-coupon-yield curve is plotted separately for each specified country and\n",
    "for all countries together. Morover the spread-curves are plotted.\n",
    "plot ( myres )\n",
    "Figure 3: Zero-coupon yield curve"
   ]
  },
  {
   "cell_type": "markdown",
   "metadata": {},
   "source": [
    "## Sorted:\n",
    "Available packages in R to take inspiration from:\n",
    " - [YieldCurve](https://cran.r-project.org/web/packages/YieldCurve/YieldCurve.pdf)\n",
    "    - [Nelson.Siegel](https://www.rdocumentation.org/packages/YieldCurve/versions/4.1/topics/Nelson.Siegel) function, its code [here](https://rdrr.io/rforge/YieldCurve/src/R/Nelson.Siegel.R)\n",
    " - [termstrc](https://r-forge.r-project.org/scm/viewvc.php/*checkout*/termstrc-vignette/termstrc.pdf?revision=2&root=termstrc&pathrev=2)\n",
    "    - [RDocumentation](https://www.rdocumentation.org/packages/termstrc/versions/1.3.7)\n",
    "    - package removed from CRAN"
   ]
  },
  {
   "cell_type": "markdown",
   "metadata": {},
   "source": [
    "## Sort out:"
   ]
  },
  {
   "cell_type": "markdown",
   "metadata": {},
   "source": [
    "## Factor models in R\n",
    "\n",
    "* [DEnss.pdf](https://cran.r-project.org/web/packages/NMOF/vignettes/DEnss.pdf)\n",
    "* [download.cgi](https://editorialexpress.com/cgi-bin/conference/download.cgi?db_name=XVIEBFIN&paper_id=33)\n",
    "* [Forecasting the yield curve with the arbitrage-free dynamic Nelson–Siegel model: Brazilian evidence - ScienceDirect](https://www.sciencedirect.com/science/article/pii/S1517758016300789)\n",
    "* [Calibrating the Dynamic Nelson-Siegel Model: A Practitioner Approach - Munich Personal RePEc Archive](https://mpra.ub.uni-muenchen.de/68439/)\n",
    "* [ijfs-06-00068.pdf](file:///E:/Google_Drive/Diploma_Thesis/Sources/Random_Google/Factor%20models/ijfs-06-00068.pdf)\n",
    "* [The Nelson-Siegel Model: Present Application and Alternative Lambda Determination](file:///E:/Google_Drive/Diploma_Thesis/Sources/Random_Google/Factor%20models/BPTX_2013_2_11230_0_387924_0_151485.pdf)\n"
   ]
  }
 ],
 "metadata": {
  "kernelspec": {
   "display_name": "R",
   "language": "R",
   "name": "ir"
  },
  "language_info": {
   "codemirror_mode": "r",
   "file_extension": ".r",
   "mimetype": "text/x-r-source",
   "name": "R",
   "pygments_lexer": "r",
   "version": "3.6.1"
  }
 },
 "nbformat": 4,
 "nbformat_minor": 4
}
