{
 "cells": [
  {
   "cell_type": "markdown",
   "metadata": {},
   "source": [
    "# Master Thesis\n",
    "## Factor models docs\n",
    "### v1.1 - description of the YieldCurve package example"
   ]
  },
  {
   "cell_type": "markdown",
   "metadata": {},
   "source": [
    "We need the data in a format with maturities in columns, and observations in rows. That is, we need to column bind together the maturities we have - 2Y, 5Y, 10Y, 30Y. "
   ]
  },
  {
   "cell_type": "code",
   "execution_count": 9,
   "metadata": {},
   "outputs": [
    {
     "name": "stderr",
     "output_type": "stream",
     "text": [
      "Warning message:\n",
      "\"index class is Date, which does not support timezones.\n",
      "Expected 'UTC' timezone, but indexTZ is ''\""
     ]
    },
    {
     "data": {
      "text/plain": [
       "            R_3M  R_6M  R_1Y  R_2Y  R_3Y  R_5Y  R_7Y R_10Y\n",
       "1981-12-31 12.92 13.90 14.32 14.57 14.64 14.65 14.67 14.59\n",
       "1982-01-31 14.28 14.81 14.73 14.82 14.73 14.54 14.46 14.43\n",
       "1982-02-28 13.31 13.83 13.95 14.19 14.13 13.98 13.93 13.86\n",
       "1982-03-31 13.34 13.87 13.98 14.20 14.18 14.00 13.94 13.87\n",
       "1982-04-30 12.71 13.13 13.34 13.78 13.77 13.75 13.74 13.62\n",
       "1982-05-31 13.08 13.76 14.07 14.47 14.48 14.43 14.47 14.30"
      ]
     },
     "metadata": {},
     "output_type": "display_data"
    }
   ],
   "source": [
    "# Example from package YieldCurve\n",
    "pacman::p_load(YieldCurve)\n",
    "data(FedYieldCurve) # Fed data set\n",
    "head(FedYieldCurve) # maturities in columns, observations in rows"
   ]
  },
  {
   "cell_type": "markdown",
   "metadata": {},
   "source": [
    "We may also benefit from the dataset being in the xts format as is the case in the example of YieldCurve package, but if not necessary we'll try to avoid preliminary complexity or optimalisation."
   ]
  },
  {
   "cell_type": "markdown",
   "metadata": {},
   "source": [
    "After the dataset is in such a form, we can fit the Nelson-Siegel function and get its parameters."
   ]
  },
  {
   "cell_type": "code",
   "execution_count": 16,
   "metadata": {},
   "outputs": [
    {
     "name": "stderr",
     "output_type": "stream",
     "text": [
      "Warning message:\n",
      "\"index class is Date, which does not support timezones.\n",
      "Expected 'UTC' timezone, but indexTZ is ''\""
     ]
    },
    {
     "data": {
      "text/plain": [
       "             beta_0    beta_1    beta_2    lambda\n",
       "2012-06-30 5.942878 -5.805087 -5.918784 0.1839190\n",
       "2012-07-31 6.007142 -5.890642 -5.770203 0.1938867\n",
       "2012-08-31 6.877328 -6.739946 -6.945611 0.1839190\n",
       "2012-09-30 6.752246 -6.624800 -6.609233 0.1839190\n",
       "2012-10-31 6.292996 -6.173300 -6.111852 0.1839190\n",
       "2012-11-30 6.590762 -6.496260 -6.364102 0.1839190"
      ]
     },
     "metadata": {},
     "output_type": "display_data"
    }
   ],
   "source": [
    "maturity.Fed <- c(3/12, 0.5, 1,2,3,5,7,10) # define maturities\n",
    "NSParameters <- Nelson.Siegel(rate=FedYieldCurve,\n",
    "                               maturity=maturity.Fed)\n",
    "tail(NSParameters)"
   ]
  },
  {
   "cell_type": "markdown",
   "metadata": {},
   "source": [
    "Once we have the parameters, we can train the NNs on these parameters as a predictive task. As we can see, we obtain 3 beta coefficients and lambda."
   ]
  },
  {
   "cell_type": "markdown",
   "metadata": {},
   "source": [
    "## Sorted:\n",
    "Available packages in R to take inspiration from:\n",
    " - [YieldCurve](https://cran.r-project.org/web/packages/YieldCurve/YieldCurve.pdf)\n",
    "    - [Nelson.Siegel](https://www.rdocumentation.org/packages/YieldCurve/versions/4.1/topics/Nelson.Siegel) function, its code [here](https://rdrr.io/rforge/YieldCurve/src/R/Nelson.Siegel.R)\n",
    " - [termstrc](https://r-forge.r-project.org/scm/viewvc.php/*checkout*/termstrc-vignette/termstrc.pdf?revision=2&root=termstrc&pathrev=2)\n",
    "    - [RDocumentation](https://www.rdocumentation.org/packages/termstrc/versions/1.3.7)\n",
    "    - package removed from CRAN"
   ]
  },
  {
   "cell_type": "markdown",
   "metadata": {},
   "source": [
    "## Sort out:"
   ]
  },
  {
   "cell_type": "markdown",
   "metadata": {},
   "source": [
    "## Factor models in R\n",
    "\n",
    "* [DEnss.pdf](https://cran.r-project.org/web/packages/NMOF/vignettes/DEnss.pdf)\n",
    "* [download.cgi](https://editorialexpress.com/cgi-bin/conference/download.cgi?db_name=XVIEBFIN&paper_id=33)\n",
    "* [Forecasting the yield curve with the arbitrage-free dynamic Nelson–Siegel model: Brazilian evidence - ScienceDirect](https://www.sciencedirect.com/science/article/pii/S1517758016300789)\n",
    "* [Calibrating the Dynamic Nelson-Siegel Model: A Practitioner Approach - Munich Personal RePEc Archive](https://mpra.ub.uni-muenchen.de/68439/)\n",
    "* [ijfs-06-00068.pdf](file:///E:/Google_Drive/Diploma_Thesis/Sources/Random_Google/Factor%20models/ijfs-06-00068.pdf)\n",
    "* [The Nelson-Siegel Model: Present Application and Alternative Lambda Determination](file:///E:/Google_Drive/Diploma_Thesis/Sources/Random_Google/Factor%20models/BPTX_2013_2_11230_0_387924_0_151485.pdf)\n"
   ]
  }
 ],
 "metadata": {
  "kernelspec": {
   "display_name": "R",
   "language": "R",
   "name": "ir"
  },
  "language_info": {
   "codemirror_mode": "r",
   "file_extension": ".r",
   "mimetype": "text/x-r-source",
   "name": "R",
   "pygments_lexer": "r",
   "version": "3.6.1"
  }
 },
 "nbformat": 4,
 "nbformat_minor": 4
}
