{
 "cells": [
  {
   "cell_type": "markdown",
   "metadata": {},
   "source": [
    "# Master Thesis\n",
    "# Environment Setup Guide Notes\n",
    "# v1.0 - resources for the tensorflow setup\n",
    "\n",
    "\n",
    "#####################\n",
    "#### Keras setup ####\n",
    "#####################\n",
    "\n",
    "\t### Set up the environment once: ###\n",
    "\t# For CPU it easier as follows, for GPU follow variou online documentation. Still, it best to set up the environment in conda first for both versions.\n",
    "\t# Install Rtools for building packages outside CRAN, Anaconda (it's a \"Python manager\") and then install Keras from R:\n",
    "\t\t# install.packages(\"devtools\")\n",
    "\t\t# devtools::install_github(\"rstudio/keras\") # install keras R package (not the actual \"Keras\" yet, just the \"keras\" R package that can later install \"Keras\" and \"TensorFlow\"!)\n",
    "\t\t# library(keras) # load in the keras package\n",
    "\t\t# install_keras() # installs default Keras library and TensorFlow backend\n",
    "\n",
    "\t### GPU Keras, Tensorflow\n",
    "\t# Install the additional dependencies of Keras with the following command:\n",
    "\t\t# pip install h5py pyyaml requests Pillow scipy\n",
    "\t# Resources:\n",
    "\t\n",
    "    "
   ]
  },
  {
   "cell_type": "markdown",
   "metadata": {},
   "source": [
    "## Sorted:\n",
    "\n",
    "Websites concerning setting up the environment, focuting on making the optimal TensorFlow GPU version work.\n",
    "\n",
    "What seems necessary from official TensorFlow documentation is to have the following SW for NVIDIA GPU. Tensorflow-gpu 2.0 (newest supported by Keras?) requires, according to the tried table by tensorflow (https://www.tensorflow.org/install/source_windows#cpu):\n",
    "\n",
    "* GPU driver (newest)\n",
    "* CUDA (10)\n",
    "    * before CUDA, you need Visual Studio (community version, 2017), and  Visual C++ compiler (e.g. Visual C++ Redistributable for Visual Studio 2017 (version 15.9))\n",
    "* cuDNN (7.4)\n",
    "* tensorflow-gpu (2.0)"
   ]
  },
  {
   "cell_type": "markdown",
   "metadata": {},
   "source": [
    "Nevertheless, this [article](https://www.pugetsystems.com/labs/hpc/How-to-Install-TensorFlow-with-GPU-Support-on-Windows-10-Without-Installing-CUDA-UPDATED-1419/?__cf_chl_captcha_tk__=778e99fa6393d3a593c5ee83723d4cfe2b2a272f-1585271923-0-AfnUcR2e-0HPGV8VRDjSY8dEfzInplsyFK64V-AX_4OW-kRQwEcqI2XYAaLgQIHUeUjtVTYtNuEMpe4pPHa_9GeJN9IM7NAc-G50c033LfysoZjruKxbiBugfW2o9vByu9tP0JPzikMYouC60Vrg7TcybZplkg0WcXdKGIcN1KnUy2q2_mtCGPrVgrM7sHQzH85-P0_PoQEQDydEbpkZFKbE7wvmKc0mFs7LjekfFx3iTJdqB01pQzCNIK4ZfBuo1wk1wWWh5sxyq6AOdrsYlrVsknP2VSrSVQmB7JiM-rRBfp6jTGxLm8hN_UjD_lPnAm1kLmmwVsEJGh1sG8MjMdOI6dFW-WgfdaZZe2QWLWfaQLyQ4xgazsGzaehc0vrmlAt7ltnGsGpWFLNQqN_mX7i-f4psyg_2b8_-XmXZx1xvG95czorFGbLvGFZW4dW4ogdgD4sabCu_8UhlmgWJcC1TrNT_wR2M1-uYYCZHGYlXTtXvSQcB5Y57mNBh8TS-WwYsu3_dcVKZ6PRvrooB2wCrwfPgyc2JA6V63_jjXzLqnAver8d1UnHuDTL6f_61FdWL_XtYvcMjZgeWFtH4GD-2chHpHtW3Kxf8hDmxfjkmat_IAubZQ57v9i7_b_4F8A) from PugetSystems talks about GPU drivers already having runtime CUDA and when using conda for setting up the environment, the tensorflow-gpu dependencies from anaconda source install the required cuda and cudnn packages. This needs more thought and testing what is really required and ultimately used by tensorflow, if the Python packages from conda dependencies, or the manually installed CUDA."
   ]
  },
  {
   "cell_type": "markdown",
   "metadata": {},
   "source": [
    "Another inconsistency is what cuDNN version various articles actually install. According to the recommended tried table by TensorFlow, the 7.4 has been tested with TF2.0, but a few articles just used the newest 7.6 cuDNN (compatible with CUDA 10). This could be tested, or figured out by looking at the dependencies of conda what versions it installs."
   ]
  },
  {
   "cell_type": "markdown",
   "metadata": {},
   "source": [
    "## Sort out:"
   ]
  },
  {
   "cell_type": "markdown",
   "metadata": {},
   "source": [
    "#### Current Session\n",
    "\n",
    "##### Window 1\n",
    "\n",
    "* [Install TensorFlow 2](https://www.tensorflow.org/install?hl=cs)\n",
    "* [Install Keras and the TensorFlow backend](https://tensorflow.rstudio.com/reference/keras/install_keras/)\n",
    "* [Local GPU](https://tensorflow.rstudio.com/installation/gpu/local_gpu/)\n",
    "* [GPU support  |  TensorFlow](https://www.tensorflow.org/install/gpu#hardware_requirements)\n",
    "* [Home - Keras Documentation](https://keras.io/#installation)\n",
    "* [Custom Installation](https://tensorflow.rstudio.com/installation/custom/)\n",
    "* [Local GPU](https://tensorflow.rstudio.com/installation/gpu/local_gpu/)\n",
    "* [Managing environments — conda 4.8.3.post5+125413ca documentation](https://docs.conda.io/projects/conda/en/latest/user-guide/tasks/manage-environments.html)\n",
    "* [RFC: Standalone Keras Repository by qlzh727 · Pull Request #202 · tensorflow/community](https://github.com/tensorflow/community/pull/202)\n",
    "* [GPU support  |  TensorFlow](https://www.tensorflow.org/install/gpu)\n",
    "* [CUDA Toolkit 10.0 Archive | NVIDIA Developer](https://developer.nvidia.com/cuda-10.0-download-archive?target_os=Windows&target_arch=x86_64&target_version=10&target_type=exenetwork)\n",
    "* [cuDNN Installation Guide :: NVIDIA Deep Learning SDK Documentation](https://docs.nvidia.com/deeplearning/sdk/cudnn-install/index.html)\n",
    "* [Which TensorFlow and CUDA version combinations are compatible? - Stack Overflow](https://stackoverflow.com/questions/50622525/which-tensorflow-and-cuda-version-combinations-are-compatible)\n",
    "* [Build from source on Windows  |  TensorFlow](https://www.tensorflow.org/install/source_windows#cpu)\n",
    "* [GPU support  |  TensorFlow](https://www.tensorflow.org/install/gpu)\n",
    "* [Installing Tensorflow with CUDA, cuDNN and GPU support on Windows 10](https://towardsdatascience.com/installing-tensorflow-with-cuda-cudnn-and-gpu-support-on-windows-10-60693e46e781)\n",
    "* [Installation Guide Windows :: CUDA Toolkit Documentation](https://docs.nvidia.com/cuda/archive/10.0/cuda-installation-guide-microsoft-windows/index.html)\n",
    "* [NVIDIA CUDA Installation Guide for Microsoft Windows](https://developer.download.nvidia.com/compute/cuda/10.0/Prod/docs/sidebar/CUDA_Installation_Guide_Windows.pdf)\n",
    "* [cuDNN Installation Guide :: NVIDIA Deep Learning SDK Documentation](https://docs.nvidia.com/deeplearning/sdk/cudnn-install/index.html)\n",
    "* [GPU support  |  TensorFlow](https://www.tensorflow.org/install/gpu)\n",
    "* [How to Install Cuda 10 and cuDNN for Tensorflow-GPU on Windows 10](https://medium.com/@sunnydhoke22/how-to-install-cuda-10-and-cudnn-for-tensorflow-gpu-on-windows-10-414c10eabc96)\n",
    "* [Releases · tensorflow/tensorflow](https://github.com/tensorflow/tensorflow/releases)\n",
    "* [Keras vs. tf.keras: What’s the difference in TensorFlow 2.0? - PyImageSearch](https://www.pyimagesearch.com/2019/10/21/keras-vs-tf-keras-whats-the-difference-in-tensorflow-2-0/)\n",
    "* [How to uninstall CUDA9.0 and cuDNN under Win10? - CUDA / CUDA Setup and Installation - NVIDIA Developer Forums](https://forums.developer.nvidia.com/t/how-to-uninstall-cuda9-0-and-cudnn-under-win10/56314)\n",
    "* [Visual Studio 2017 15.9 Release Notes | Microsoft Docs](https://docs.microsoft.com/en-us/visualstudio/releasenotes/vs2017-relnotes)\n",
    "* [Installing Tensorflow with CUDA, cuDNN and GPU support on Windows 10](https://towardsdatascience.com/installing-tensorflow-with-cuda-cudnn-and-gpu-support-on-windows-10-60693e46e781)\n",
    "* [Tensorflow-gpu on Windows10 - Tutorial - Leo Benkel](https://leobenkel.com/2018/04/tensorflow-gpu-windows10-tutorial/)\n",
    "* [Installation Guide Windows :: CUDA Toolkit Documentation](https://docs.nvidia.com/cuda/cuda-installation-guide-microsoft-windows/index.html)\n",
    "* [do i need microsoft visual c++ for tensorflow - Google Search](https://www.google.com/search?sxsrf=ALeKk01Tr9E3Oj1VEmQvgFmihMAU2oI7NA%3A1585270255743&ei=7019XomBLYSk1fAPjOW5qA0&q=do+i+need+microsoft+visual+c%2B%2B+for+tensorflow&oq=do+i+need+microsoft+visual+c%2B%2B+for+tensorflow&gs_l=psy-ab.3...9019.15322..15462...0.3..0.117.2753.32j2......0....1..gws-wiz.......0i71j35i39j0i273j0i67j0i20i263j0j0i7i30j0i5i30j0i8i30j0i8i7i30j0i203j0i22i30j0i333j33i160.5w-GVDGBQR0&ved=0ahUKEwjJtN3zt7noAhUEUhUIHYxyDtUQ4dUDCAs&uact=5)\n",
    "* [GPU TensorFlow Installation Guide for Windows – deep mind](http://www.deep-mind.org/2017/10/03/installation-guide-tensorflow/)\n",
    "* [c++ - How to install TensorFlow on Windows? - Stack Overflow](https://stackoverflow.com/questions/34785414/how-to-install-tensorflow-on-windows/35255133)\n",
    "* [Downloads - My Visual Studio](https://my.visualstudio.com/Downloads?q=Visual%20Studio%202017)\n",
    "* [How to Install TensorFlow with GPU Support on Windows 10 (Without Installing CUDA) UPDATED!](https://www.pugetsystems.com/labs/hpc/How-to-Install-TensorFlow-with-GPU-Support-on-Windows-10-Without-Installing-CUDA-UPDATED-1419/?__cf_chl_captcha_tk__=778e99fa6393d3a593c5ee83723d4cfe2b2a272f-1585271923-0-AfnUcR2e-0HPGV8VRDjSY8dEfzInplsyFK64V-AX_4OW-kRQwEcqI2XYAaLgQIHUeUjtVTYtNuEMpe4pPHa_9GeJN9IM7NAc-G50c033LfysoZjruKxbiBugfW2o9vByu9tP0JPzikMYouC60Vrg7TcybZplkg0WcXdKGIcN1KnUy2q2_mtCGPrVgrM7sHQzH85-P0_PoQEQDydEbpkZFKbE7wvmKc0mFs7LjekfFx3iTJdqB01pQzCNIK4ZfBuo1wk1wWWh5sxyq6AOdrsYlrVsknP2VSrSVQmB7JiM-rRBfp6jTGxLm8hN_UjD_lPnAm1kLmmwVsEJGh1sG8MjMdOI6dFW-WgfdaZZe2QWLWfaQLyQ4xgazsGzaehc0vrmlAt7ltnGsGpWFLNQqN_mX7i-f4psyg_2b8_-XmXZx1xvG95czorFGbLvGFZW4dW4ogdgD4sabCu_8UhlmgWJcC1TrNT_wR2M1-uYYCZHGYlXTtXvSQcB5Y57mNBh8TS-WwYsu3_dcVKZ6PRvrooB2wCrwfPgyc2JA6V63_jjXzLqnAver8d1UnHuDTL6f_61FdWL_XtYvcMjZgeWFtH4GD-2chHpHtW3Kxf8hDmxfjkmat_IAubZQ57v9i7_b_4F8A)\n",
    "* [TensorFlow 2 (GPU) with Anaconda Python (no separate CUDA install needed)](https://medium.com/@dkinghorn/tensorflow-2-gpu-with-anaconda-python-no-separate-cuda-install-needed-d10cddb444b1)\n",
    "* [do I need a separate cuda installation for tensorflow - Google Search](https://www.google.cz/search?q=do+I+need+a+separate+cuda+installation+for+tensorflow&ie=&oe=)\n",
    "* [Do I need the NVIDIA CUDA Toolkit along with conda installation of the CUDA toolkit? · Issue #33695 · tensorflow/tensorflow](https://github.com/tensorflow/tensorflow/issues/33695)\n",
    "* [python - Manual install vs conda install tensorflow-gpu - Data Science Stack Exchange](https://datascience.stackexchange.com/questions/48909/manual-install-vs-conda-install-tensorflow-gpu)\n",
    "* [Maze Found - Read the Docs for Business](https://conda.io/en/latest/user-guide/tasks/build-packages/variants.html#customizing-compatibility)\n",
    "* [Tensorflow GPU Installation Made Easy: Use conda instead of pip [Update-2]](https://towardsdatascience.com/tensorflow-gpu-installation-made-easy-use-conda-instead-of-pip-52e5249374bc)\n",
    "* [Install TensorFlow with pip](https://www.tensorflow.org/install/pip)\n",
    "* [install tensorflow using conda - Google Search](https://www.google.com/search?q=install+tensorflow+using+conda&oq=install+tensorflow+using+conda&aqs=chrome..69i57j0l7.5605j1j7&sourceid=chrome&ie=UTF-8)\n",
    "* [docs.anaconda.com](https://docs.anaconda.com/anaconda/user-guide/tasks/tensorflow/)\n",
    "* [TensorFlow in Anaconda - Anaconda](https://www.anaconda.com/tensorflow-in-anaconda/)\n",
    "* [Installation — TensorFlow Object Detection API tutorial documentation](https://tensorflow-object-detection-api-tutorial.readthedocs.io/en/latest/install.html)\n",
    "* [Anaconda, Jupyter Notebook, TensorFlow and Keras for Deep Learning](https://medium.com/@margaretmz/anaconda-jupyter-notebook-tensorflow-and-keras-b91f381405f8)\n",
    "* [Installing TensorFlow on Windows with Anaconda - Intel Student Ambassadors - Medium](https://medium.com/intel-student-ambassadors/installing-tensorflow-on-windows-with-anaconda-af6fa6280a4b)\n",
    "* [Tensorflow GPU Installation Made Easy: Use conda instead of pip [Update-2]](https://towardsdatascience.com/tensorflow-gpu-installation-made-easy-use-conda-instead-of-pip-52e5249374bc)\n",
    "* [Eager execution  |  TensorFlow Core](https://www.tensorflow.org/guide/eager)\n",
    "* [How to tell if tensorflow is using gpu acceleration from inside python shell? - Stack Overflow](https://stackoverflow.com/questions/38009682/how-to-tell-if-tensorflow-is-using-gpu-acceleration-from-inside-python-shell)\n",
    "* [tf.config.list_physical_devices  |  TensorFlow Core v2.1.0](https://www.tensorflow.org/api_docs/python/tf/config/list_physical_devices)\n",
    "* [python - ipython --pylab vs ipython - Stack Overflow](https://stackoverflow.com/questions/20525459/ipython-pylab-vs-ipython)\n",
    "* [resource monitor - top command for GPU's using CUDA - Stack Overflow](https://stackoverflow.com/questions/8223811/top-command-for-gpus-using-cuda)\n",
    "* [wookayin/gpustat: 📊 A simple command-line utility for querying and monitoring GPU status](https://github.com/wookayin/gpustat)\n",
    "* [Use a GPU  |  TensorFlow Core](https://www.tensorflow.org/guide/gpu)\n",
    "* [Custom Installation](https://tensorflow.rstudio.com/installation/custom/)\n",
    "* [Quick start](https://tensorflow.rstudio.com/installation/)\n",
    "* [Reticulate, source_python and exec problems - General - RStudio Community](https://community.rstudio.com/t/reticulate-source-python-and-exec-problems/7386/3)\n",
    "* [Python Version Configuration • reticulate](https://rstudio.github.io/reticulate/articles/versions.html)\n",
    "* [Long Short-Term Memory unit - Hochreiter 1997. — layer_lstm • keras](https://keras.rstudio.com/reference/layer_lstm.html)\n",
    "* [layer_cudnn_lstm dropout - Google Search](https://www.google.com/search?q=layer_cudnn_lstm+dropout&oq=layer_cudnn_lstm&aqs=chrome.1.69i57j0l2j69i60.4633j0j7&sourceid=chrome&ie=UTF-8)\n",
    "* [1512.05287.pdf](https://arxiv.org/pdf/1512.05287.pdf)\n",
    "* [lmnt-com/haste: Haste: a fast, simple, and open RNN library](https://github.com/lmnt-com/haste)\n",
    "* [Add dropout and recurrent_dropout to CuDNNLSTM and CuDNNGRU · Issue #8935 · keras-team/keras](https://github.com/keras-team/keras/issues/8935)\n",
    "* [tf.keras.layers.LSTM  |  TensorFlow Core r2.0](https://www.tensorflow.org/versions/r2.0/api_docs/python/tf/keras/layers/LSTM)\n",
    "* [TF 2.0: Can't use tf.keras.layers.LSTM on GPU. · Issue #25843 · tensorflow/tensorflow](https://github.com/tensorflow/tensorflow/issues/25843)\n",
    "* [[D] Under what conditions will GPUs speed up LSTM/GRU training? : MachineLearning](https://www.reddit.com/r/MachineLearning/comments/5one27/d_under_what_conditions_will_gpus_speed_up/)\n",
    "* [machine learning - Why is my GPU slower than CPU when training LSTM/RNN models? - Stack Overflow](https://stackoverflow.com/questions/41948406/why-is-my-gpu-slower-than-cpu-when-training-lstm-rnn-models)\n",
    "* [NVIDIA Developer](https://developer.nvidia.com/)\n",
    "* [python - in TensorFlow 2.0, what is the different between LSTM and LSTMCell objects? - Data Science Stack Exchange](https://datascience.stackexchange.com/questions/54549/in-tensorflow-2-0-what-is-the-different-between-lstm-and-lstmcell-objects)\n",
    "* [tf2.0.0-beta0-LSTM-GPU-test.ipynb - Colaboratory](https://colab.research.google.com/drive/1fanPZaoBZgfGLdLCnzba1ExLK6zot92T)\n",
    "* [CuDNNLSTM and activations · Issue #8510 · keras-team/keras](https://github.com/keras-team/keras/issues/8510)\n",
    "* [Guide to the Sequential Model](https://tensorflow.rstudio.com/guide/keras/sequential_model/)\n",
    "* [LSTM Networks for Sentiment Analysis — DeepLearning 0.1 documentation](http://deeplearning.net/tutorial/lstm.html)"
   ]
  }
 ],
 "metadata": {
  "kernelspec": {
   "display_name": "R",
   "language": "R",
   "name": "ir"
  },
  "language_info": {
   "codemirror_mode": "r",
   "file_extension": ".r",
   "mimetype": "text/x-r-source",
   "name": "R",
   "pygments_lexer": "r",
   "version": "3.6.1"
  }
 },
 "nbformat": 4,
 "nbformat_minor": 4
}
