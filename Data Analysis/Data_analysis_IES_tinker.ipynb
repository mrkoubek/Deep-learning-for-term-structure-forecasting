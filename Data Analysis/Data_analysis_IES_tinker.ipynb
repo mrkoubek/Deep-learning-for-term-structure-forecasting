{
 "cells": [
  {
   "cell_type": "markdown",
   "metadata": {},
   "source": [
    "# Deep Learning for Term Structure Forecasting\n",
    "## Data Analysis\n",
    "#### David Koubek"
   ]
  },
  {
   "cell_type": "code",
   "execution_count": null,
   "metadata": {},
   "outputs": [],
   "source": []
  },
  {
   "cell_type": "markdown",
   "metadata": {},
   "source": [
    "Model_fit.R all code below"
   ]
  },
  {
   "cell_type": "code",
   "execution_count": 1,
   "metadata": {},
   "outputs": [],
   "source": [
    "# Master Thesis\n",
    "# Model fitting follows\n",
    "# v1.2 - converting the environment/code for cuDNN LSTM GPU training (WIP)\n",
    "\n",
    "rm(list = ls())"
   ]
  },
  {
   "cell_type": "code",
   "execution_count": 3,
   "metadata": {},
   "outputs": [
    {
     "name": "stderr",
     "output_type": "stream",
     "text": [
      "Loading required package: pacman\n",
      "Warning message:\n",
      "\"package 'pacman' was built under R version 3.6.3\""
     ]
    }
   ],
   "source": [
    "# Bind R to a Python environment that has TensorFlow with GPU support\n",
    "# Do this first before loading any further packages, otherwise the R session can be binded with a default CPU environment and you will have to restart R to rebind\n",
    "# reticulate::use_condaenv(\"r-tensorflow-gpu\") # Specify the name of a conda environment.\n",
    "# reticulate::use_condaenv(\"r-tensorflow-gpu\", required = TRUE)\n",
    "# play:\n",
    "# reticulate::repl_python()\n",
    "# import tensorflow as tf\n",
    "\n",
    "# Packages\n",
    "if (!require(\"pacman\")) install.packages(\"pacman\") # installs pacman package if not installed yet"
   ]
  },
  {
   "cell_type": "markdown",
   "metadata": {},
   "source": [
    "pacman::p_load(pacman, dplyr, tidyr, ggplot2, scales, Cairo, zoo, xtable, tibble, forecast, naturalsort) # load packages TBD e.g. these, edit when u determine which needed/used..\n",
    "p_load(reticulate, tensorflow, keras)\n",
    "py_config()\n",
    "tf_config()\n",
    "# devtools::session_info()"
   ]
  },
  {
   "cell_type": "code",
   "execution_count": 4,
   "metadata": {},
   "outputs": [
    {
     "name": "stderr",
     "output_type": "stream",
     "text": [
      "Registered S3 methods overwritten by 'ggplot2':\n",
      "  method         from \n",
      "  [.quosures     rlang\n",
      "  c.quosures     rlang\n",
      "  print.quosures rlang\n"
     ]
    },
    {
     "name": "stdout",
     "output_type": "stream",
     "text": [
      "[1] \"Workspace rdy set go!\"\n"
     ]
    }
   ],
   "source": [
    "# Workspace\n",
    "# setwd(\"E:/Google_Drive/Diploma_Thesis/Code\")\n",
    "setwd(\"I:/Diploma_Thesis/Code\")\n",
    "# load(file = \"Workspaces/Data_03_trimmed-small_US.RData\") # 0min\n",
    "load(file = \"Workspaces/Data_04_split-small_US_tick_05-2019.RData\") # 0min\n",
    "print(\"Workspace rdy set go!\")"
   ]
  },
  {
   "cell_type": "code",
   "execution_count": 7,
   "metadata": {},
   "outputs": [
    {
     "data": {
      "text/html": [
       "'US'"
      ],
      "text/latex": [
       "'US'"
      ],
      "text/markdown": [
       "'US'"
      ],
      "text/plain": [
       "[1] \"US\""
      ]
     },
     "metadata": {},
     "output_type": "display_data"
    },
    {
     "data": {
      "text/html": [
       "'US'"
      ],
      "text/latex": [
       "'US'"
      ],
      "text/markdown": [
       "'US'"
      ],
      "text/plain": [
       "[1] \"US\""
      ]
     },
     "metadata": {},
     "output_type": "display_data"
    }
   ],
   "source": [
    "#############################\n",
    "###### Split datasets #######\n",
    "#############################\n",
    "\n",
    "# Picks the future\n",
    "futurenames # shall contain US and EU various maturities eventually\n",
    "future <- 1\n",
    "futurenames[future]"
   ]
  },
  {
   "cell_type": "code",
   "execution_count": 35,
   "metadata": {},
   "outputs": [
    {
     "data": {
      "text/html": [
       "780735"
      ],
      "text/latex": [
       "780735"
      ],
      "text/markdown": [
       "780735"
      ],
      "text/plain": [
       "[1] 780735"
      ]
     },
     "metadata": {},
     "output_type": "display_data"
    },
    {
     "data": {
      "text/html": [
       "468441"
      ],
      "text/latex": [
       "468441"
      ],
      "text/markdown": [
       "468441"
      ],
      "text/plain": [
       "[1] 468441"
      ]
     },
     "metadata": {},
     "output_type": "display_data"
    },
    {
     "data": {
      "text/html": [
       "624588"
      ],
      "text/latex": [
       "624588"
      ],
      "text/markdown": [
       "624588"
      ],
      "text/plain": [
       "[1] 624588"
      ]
     },
     "metadata": {},
     "output_type": "display_data"
    },
    {
     "data": {
      "text/plain": [
       "      Min.    1st Qu.     Median       Mean    3rd Qu.       Max. \n",
       "-0.1250000  0.0000000  0.0000000  0.0000044  0.0000000  0.5625000 "
      ]
     },
     "metadata": {},
     "output_type": "display_data"
    }
   ],
   "source": [
    "# Train and test split\n",
    "# dataFutures_tmp <- data_small_aday$Close # one day of data, 24k obs\n",
    "dataFutures_tmp <- data_small_amonth$Close # one month of data, 780k obs\n",
    "(end <- length(dataFutures_tmp))\n",
    "(split_train <- round(3/5 * end))\n",
    "(split_val <- round(4/5 * end))\n",
    "\n",
    "dataFutures_train <- dataFutures_tmp[1:split_train]\n",
    "dataFutures_val <- dataFutures_tmp[(split_train + 1):split_val]\n",
    "dataFutures_test <- dataFutures_tmp[(split_val + 1):end]\n",
    "\n",
    "# Differencing the data - optional, but better results\n",
    "dataFutures_train_orig <- dataFutures_train # backup of original data for the end \"undiff\"\n",
    "dataFutures_val_orig <- dataFutures_val\n",
    "dataFutures_test_orig <- dataFutures_test\n",
    "\n",
    "dataFutures_train <- diff(dataFutures_train)\n",
    "dataFutures_val <- diff(dataFutures_val)\n",
    "dataFutures_test <- diff(dataFutures_test)\n",
    "summary(dataFutures_train)"
   ]
  },
  {
   "cell_type": "code",
   "execution_count": 36,
   "metadata": {},
   "outputs": [
    {
     "data": {
      "text/plain": [
       "   Mode   FALSE    TRUE \n",
       "logical  445208   23232 "
      ]
     },
     "metadata": {},
     "output_type": "display_data"
    }
   ],
   "source": [
    "summary(dataFutures_train != 0)"
   ]
  },
  {
   "cell_type": "code",
   "execution_count": 37,
   "metadata": {},
   "outputs": [
    {
     "name": "stdout",
     "output_type": "stream",
     "text": [
      " num [1:23232] -0.0312 0.0312 -0.0312 0.0312 -0.0312 ...\n"
     ]
    },
    {
     "data": {
      "text/plain": [
       "      Min.    1st Qu.     Median       Mean    3rd Qu.       Max. \n",
       "-0.1250000 -0.0312500  0.0312500  0.0000888  0.0312500  0.5625000 "
      ]
     },
     "metadata": {},
     "output_type": "display_data"
    }
   ],
   "source": [
    "timpy <- dataFutures_train[dataFutures_train != 0]\n",
    "str(timpy)\n",
    "summary(timpy)"
   ]
  },
  {
   "cell_type": "code",
   "execution_count": 41,
   "metadata": {},
   "outputs": [
    {
     "name": "stderr",
     "output_type": "stream",
     "text": [
      "Warning message:\n",
      "\"package 'HistogramTools' is in use and will not be installed\""
     ]
    }
   ],
   "source": [
    "install.packages(\"HistogramTools\")\n",
    "library(HistogramTools)"
   ]
  },
  {
   "cell_type": "code",
   "execution_count": 44,
   "metadata": {},
   "outputs": [
    {
     "ename": "ERROR",
     "evalue": "Error in stopifnot(is.numeric(breaks), is.numeric(counts)): argument \"counts\" is missing, with no default\n",
     "output_type": "error",
     "traceback": [
      "Error in stopifnot(is.numeric(breaks), is.numeric(counts)): argument \"counts\" is missing, with no default\nTraceback:\n",
      "1. HistogramTools:::.BuildHistogram(timpy)",
      "2. stopifnot(is.numeric(breaks), is.numeric(counts))"
     ]
    }
   ],
   "source": [
    "myhist <- HistogramTools:::.BuildHistogram(timpy)\n",
    "plot(myhist)"
   ]
  },
  {
   "cell_type": "code",
   "execution_count": 38,
   "metadata": {},
   "outputs": [
    {
     "data": {
      "image/png": "[encoded data removed]",
      "text/plain": [
       "plot without title"
      ]
     },
     "metadata": {},
     "output_type": "display_data"
    }
   ],
   "source": [
    "plot(timpy)"
   ]
  },
  {
   "cell_type": "code",
   "execution_count": 39,
   "metadata": {},
   "outputs": [
    {
     "data": {
      "image/png": "[encoded data removed]",
      "text/plain": [
       "Plot with title \"Histogram of timpy\""
      ]
     },
     "metadata": {},
     "output_type": "display_data"
    }
   ],
   "source": [
    "hist(timpy, breaks = 20000)"
   ]
  },
  {
   "cell_type": "markdown",
   "metadata": {},
   "source": [
    "#############################\n",
    "###### Graph datasets #######\n",
    "#############################\n",
    "\n",
    "# Graph of the split original dataset\n",
    "\tdata_df <- data_frame(time = 1:(length(dataFutures_train_orig) + length(dataFutures_val_orig) + length(dataFutures_test_orig)),\n",
    "\t                 \t  train = c(dataFutures_train_orig, rep(NA, length(dataFutures_val_orig) + length(dataFutures_test_orig))),\n",
    "\t                 \t  val = c(rep(NA, length(dataFutures_train_orig)), dataFutures_val_orig, rep(NA, length(dataFutures_test_orig))),\n",
    "\t                 \t  test = c(rep(NA, length(dataFutures_train_orig) + length(dataFutures_val_orig)), dataFutures_test_orig))\n",
    "\tdata_df <- data_df %>% gather(key = 'train_val_test', value = 'value', -time) # -time\n",
    "\n",
    "\tcustom_scale <- 1.5 # for the graph to look nice, sizes of graph items and fonts\n",
    "\tdataset_graph <- ggplot(data_df, aes(x = time, y = value, color = train_val_test)) +\n",
    "\t\tgeom_line() +\n",
    "\t\tlabs(x = \"obs\", y = \"price\") +\n",
    "\t\t# scale_x_continuous(breaks = c(1, round(seq(20000, end - 3, by = 20000), 1), split_train - 1, split_val - 2, end - 3)) +\n",
    "\t\t# scale_x_continuous(breaks = pretty_breaks(5)) +\n",
    "\t\tscale_colour_discrete(name = \"Dataset\", breaks = c(\"train\", \"val\", \"test\"), labels = c(\"train\", \"validate\", \"test\")) +\n",
    "\t\tguides(colour = guide_legend(override.aes = list(size = 4/3 * custom_scale))) +\n",
    "\t\ttheme_bw(base_family = \"LM Roman 10\", base_size = 16 * custom_scale) +\n",
    "\t\ttheme(legend.key.height = unit(1 * custom_scale, \"lines\"))\n",
    "\t\t# theme(legend.key.height = unit(1 * custom_scale, \"lines\"), axis.text.x = element_text(angle = 35, vjust = 0.8))\n",
    "\tdataset_graph\n",
    "\n",
    "# Graph of the split differenced dataset\n",
    "\tdata_df <- data_frame(time = 1:(length(dataFutures_train) + length(dataFutures_val) + length(dataFutures_test)),\n",
    "\t                 \t  train = c(dataFutures_train, rep(NA, length(dataFutures_val) + length(dataFutures_test))),\n",
    "\t                 \t  val = c(rep(NA, length(dataFutures_train)), dataFutures_val, rep(NA, length(dataFutures_test))),\n",
    "\t                 \t  test = c(rep(NA, length(dataFutures_train) + length(dataFutures_val)), dataFutures_test))\n",
    "\n",
    "\tdata_df <- data_df %>% gather(key = 'train_val_test', value = 'value', -time) # -time\n",
    "\n",
    "\tcustom_scale <- 1.5 # for the graph to look nice, sizes of graph items and fonts\n",
    "\tsplit_graph <- ggplot(data_df, aes(x = time, y = value, color = train_val_test)) +\n",
    "\t\tgeom_line() +\n",
    "\t\tlabs(x = \"obs\", y = \"price difference\") +\n",
    "\t\t# scale_x_continuous(breaks = c(1, round(seq(20000, end - 3, by = 20000), 1), split_train - 1, split_val - 2, end - 3)) +\n",
    "\t\t# scale_x_continuous(breaks = pretty_breaks(5)) +\n",
    "\t\tscale_colour_discrete(name = \"Dataset\", breaks = c(\"train\", \"val\", \"test\"), labels = c(\"train\", \"validate\", \"test\")) +\n",
    "\t\tguides(colour = guide_legend(override.aes = list(size = 4/3 * custom_scale))) +\n",
    "\t\ttheme_bw(base_family = \"LM Roman 10\", base_size = 16 * custom_scale) +\n",
    "\t\ttheme(legend.key.height = unit(1 * custom_scale, \"lines\"))\n",
    "\t\t# theme(legend.key.height = unit(1 * custom_scale, \"lines\"), axis.text.x = element_text(angle = 35, vjust = 0.8))\n",
    "\tsplit_graph\n",
    "\n",
    "# Save the graphs to file\n",
    "\tGoldenRatio <- (1 + sqrt(5)) / 2\n",
    "\t# plots_width <- 5.55226 # width in inches of thesis template textwidth\n",
    "\tplots_width <- 10 * custom_scale # 10 inches plus have nicely smallish graph elements, adjust custom scale for each graph type what looks nice\n",
    "\tplots_height <- plots_width / GoldenRatio\n",
    "\n",
    "# A day\n",
    "\t# ggsave(dataset_graph, filename = paste0(\"Graphs/dataset_\", futurenames[future], \"_aday.pdf\"), device = cairo_pdf,\n",
    "\t# \twidth = plots_width, height = plots_height, units = \"in\")\n",
    "\t# ggsave(split_graph, filename = paste0(\"Graphs/differenced_\", futurenames[future], \"_aday.pdf\"), device = cairo_pdf,\n",
    "\t# \twidth = plots_width, height = plots_height, units = \"in\")\n",
    "\n",
    "# A month\n",
    "\tggsave(dataset_graph, filename = paste0(\"Graphs/dataset_\", futurenames[future], \"_amonth.pdf\"), device = cairo_pdf,\n",
    "\t\twidth = plots_width, height = plots_height, units = \"in\")\n",
    "\tggsave(split_graph, filename = paste0(\"Graphs/differenced_\", futurenames[future], \"_amonth.pdf\"), device = cairo_pdf,\n",
    "\t\twidth = plots_width, height = plots_height, units = \"in\")\n",
    "\n",
    "\n",
    "# Save workspace\n",
    "# save.image(file = paste0(\"Workspaces/Data_04_split-small_\", futurenames[future], \"_tick_05-2019.RData\")) # 1min 21MB\n",
    "\n",
    "\n",
    "\n",
    "\n",
    "#############################\n",
    "#### TBD Factor models ######\n",
    "#############################\n",
    "\n",
    "# Not programmed yet, shall run the data through the factor models (DNS) before training the NNs.\n",
    "# In a separate script probably, Model_factor.R\n",
    "# Run script.\n",
    "\n",
    "\n",
    "\n",
    "\n",
    "#############################\n",
    "########## ANNs #############\n",
    "#############################\n",
    "\n",
    "ls()\n",
    "\n",
    "### Prepare parameters ###\n",
    "\n",
    "# Windowing the data\n",
    "lstm_num_timesteps <- 4\n",
    "# lstm_num_timesteps <- 12\n",
    "\n",
    "window_data <- function(data) { # window the input data\n",
    "\tt(sapply(1:(length(data) - lstm_num_timesteps), function(x) data[x:(x + lstm_num_timesteps - 1)]))\n",
    "}\n",
    "\n",
    "data_train <- window_data(dataFutures_train)\n",
    "data_val <- window_data(dataFutures_val)\n",
    "data_test <- window_data(dataFutures_test)\n",
    "data_train[1:5, 1:4]\n",
    "\n",
    "window_labels <- function(data) { # window the labels data\n",
    "\tsapply((lstm_num_timesteps + 1):(length(data)), function(x) data[x])\n",
    "}\n",
    "\n",
    "labels_train <- window_labels(dataFutures_train)\n",
    "labels_val <- window_labels(dataFutures_val)\n",
    "labels_test <- window_labels(dataFutures_test)\n",
    "labels_train[1:5]\n",
    "\n",
    "\n",
    "# Keras LSTMs expect the input array to be shaped as (no. samples, no. time steps, no. features), yet we have just the two axes, need to add an axis \"no.features\" at the end that will just say that we have 1 feature (we have just one column/price to feed)\n",
    "# dim(data_train)\n",
    "# dim(data_val)\n",
    "# dim(data_test)\n",
    "# K <- backend() # don't need this approach anymore, from Keras 2.1.2 can use k_expand_dims and k_eval\n",
    "# data_train <- K$eval(K$expand_dims(data_train, axis = 2L)) # 2L because of this https://github.com/rstudio/tensorflow/issues/190\n",
    "data_train <- k_eval(k_expand_dims(data_train, axis = -1)) # -1 for the last axis to expand at\n",
    "data_val <- k_eval(k_expand_dims(data_val, axis = -1))\n",
    "data_test <- k_eval(k_expand_dims(data_test, axis = -1))\n",
    "dim(data_train)\n",
    "str(data_train)\n",
    "class(data_train)\n",
    "\n",
    "\n",
    "# LSTM input shape: (samples, time steps, features)\n",
    "num_samples <- dim(data_train)[1]\n",
    "num_steps <- dim(data_train)[2]\n",
    "num_features <- dim(data_train)[3]\n",
    "c(num_samples, num_steps, num_features)\n",
    "\n",
    "\n",
    "\n",
    "#############################\n",
    "####### Training NNs ########\n",
    "#############################\n",
    "\n",
    "# TensorBoard initialisation/stopping\n",
    "# dir.create(\"TensorBoard_logs\")\n",
    "tensorboard(log_dir = \"TensorBoard_logs/tmp\", host = \"127.0.0.1\", port = \"1001\", launch_browser = utils::browseURL(\"http://127.0.0.1:1001\"), reload_interval = 5) # Launch TensorBoard and wait for output in specified directory\n",
    "# tensorboard(log_dir = \"TensorBoard_logs\", host = \"127.0.0.1\", port = \"1001\", reload_interval = 5) # Launch TensorBoard manually at http://127.0.0.1:1001 and wait for output in specified directory\n",
    "tensorboard(log_dir = \"TensorBoard_logs/tmp\", action = \"stop\") # stops the TensorBoard\n",
    "# browseURL(\"http://127.0.0.1:1001\") # launches the TensorBoard url\n",
    "\n",
    "##### TBD Tune #####\n",
    "# Define manually parameters here that will be used in the model\n",
    "### MAE ###\n",
    "\tn_epochs <- 5 # for now 50 takes 10min for smallest network, later obviously need to train longer to optimise until it starts overfitting\n",
    "\tbatch <- 128\n",
    "\n",
    "\tparameters_architecture <- list(nlayers = 1, units = c(8, 0, 0), dropout = 0.2, recurrent_dropout = 0.2) # 11s per epoch on a month of data\n",
    "\tparameters_compile <- list(loss = \"mae\", optimizer = \"rmsprop\", metrics = \"mse\") ### for MAE ###\n",
    "\t# parameters_compile <- list(loss = \"mse\", optimizer = \"rmsprop\", metrics = \"mae\") ### for MSE trials ###\n",
    "\tparameters_fit <- list(epochs = n_epochs, batch_size = batch)\n",
    "\tparameters_1 <- c(parameters_architecture, parameters_compile, parameters_fit)\n",
    "\n",
    "\tparameters_architecture <- list(nlayers = 1, units = c(32, 0, 0), dropout = 0.2, recurrent_dropout = 0.2)\n",
    "\t# parameters_fit <- list(epochs = n_epochs, batch_size = batch) # if we want to change sth\n",
    "\tparameters_2 <- c(parameters_architecture, parameters_compile, parameters_fit)\n",
    "\n",
    "\tparameters_architecture <- list(nlayers = 2, units = c(8, 16, 0), dropout = 0.1, recurrent_dropout = 0.5)\n",
    "\tparameters_3 <- c(parameters_architecture, parameters_compile, parameters_fit)\n",
    "\n",
    "\tparameters_architecture <- list(nlayers = 2, units = c(32, 64, 0), dropout = 0.1, recurrent_dropout = 0.5)\n",
    "\tparameters_4 <- c(parameters_architecture, parameters_compile, parameters_fit)\n",
    "\n",
    "\tparameters_architecture <- list(nlayers = 3, units = c(32, 64, 128), dropout = 0.1, recurrent_dropout = 0.5) # 43s per epoch\n",
    "\tparameters_5 <- c(parameters_architecture, parameters_compile, parameters_fit)\n",
    "\n",
    "\tparameters <- list(NN_1L_6N = parameters_1, NN_1L_32N = parameters_2,\n",
    "\t\t\t\t\t   NN_2L_6N12N = parameters_3, NN_2L_32N64N = parameters_4,\n",
    "\t\t\t\t\t   NN_3L_32N32N64N = parameters_5)\n",
    "\tstr(parameters)\n",
    "\n",
    "# Keras LSTM model\n",
    "# Looping the layers to automate it\n",
    "build_model_n <- function(nlayers = 1, units = rep(6, nlayers), dropout = 0, recurrent_dropout = 0,\n",
    "\t\t\t\t\t\t  loss = \"mae\", optimizer = \"rmsprop\", metrics = \"mse\", ...) {\n",
    "\tk_clear_session() # clearing the model/session first with backend to avoid TensorBoard errors\n",
    "\t\n",
    "\tmodel <- keras_model_sequential()\n",
    "\tfor (i in 1:nlayers) { # hidden layers\n",
    "\t\t# model %>% layer_cudnn_lstm(units = units[i], return_sequences = (i != nlayers), input_shape = c(num_steps, num_features))\n",
    "\t\t# AttributeError: module 'tensorflow_core.keras.layers' has no attribute 'CuDNNLSTM'\n",
    "\t\tmodel %>% layer_lstm(units = units[i], return_sequences = (i != nlayers), dropout = dropout, recurrent_dropout = recurrent_dropout, input_shape = c(num_steps, num_features))\n",
    "\t}\n",
    "\tmodel %>% layer_dense(units = 1) # output layer\n",
    "\n",
    "\tmodel %>% compile(\n",
    "\t\tloss = loss,\n",
    "\t\toptimizer = optimizer,\n",
    "\t\tmetrics = metrics\n",
    "\t)\n",
    "}\n",
    "\n",
    "save <- function(what, name) {\n",
    "\tsave_model_hdf5(what, paste0(\"Models/tmp/Model_\", name, \".h5\"))\n",
    "\tsave.image(file = paste0(\"Workspaces/tmp/Image_\", name, \"_trained.RData\"))\n",
    "}\n",
    "\n",
    "\n",
    "# model_names <- c()\n",
    "len <- 1\n",
    "# for (i in 1:len) {\n",
    "\ti <- 1 # number of the run\n",
    "\tprint(paste(\"Iteration\", i, \"/\", len))\n",
    "\tfor (hyp_tune in 1:1) { # 1:5 or 1:(length(parameters)\n",
    "\t\thyp_tune <- 1 # in case u want to skip the for loop and manually select which one to train\n",
    "\t\tprint(paste(\"Hyperparameter tuning\", hyp_tune, \"/\", length(parameters)))\n",
    "\n",
    "\t\tmodel <- do.call(what = build_model_n, args = parameters[[hyp_tune]])\n",
    "\t\tprint(model)\n",
    "\n",
    "\t\tlayers_name <- c()\n",
    "\t\tfor (j in 1:parameters[[hyp_tune]]$nlayers) {layers_name <- paste0(layers_name, model$layers[[j]]$units, \"N-\")}\n",
    "\t\tmodel_name <- paste0(futurenames[future], \"-1H-2003-2017-LSTM-k\", lstm_num_timesteps, \"-\", length(model$layers) - 1, \"L-\", layers_name,\n",
    "\t\t\t\t\t\t\t  100 * model$layers[[1]]$dropout, \"pDr-\", 100 * model$layers[[1]]$recurrent_dropout, \"pRDr-\",\n",
    "\t\t\t\t\t\t\t  toupper(model$loss),\"-\", parameters_compile$optimizer, \"-\", toupper(model$metrics_names[2]),\"-\", parameters[[hyp_tune]]$epochs, \"E_run_\", i)\n",
    "\t\tprint(paste(\"Training model\", model_name))\n",
    "\n",
    "\t\t# dir.create(\"TensorBoard_logs\", showWarnings = FALSE)\n",
    "\t\tlog_run_dir <- paste0(\"TensorBoard_logs/tmp/\", model_name)\n",
    "\t\tmodel_checkpoint_dir <- paste0(\"Models/checkpoints/\", model_name)\n",
    "\t\tdir.create(model_checkpoint_dir, showWarnings = FALSE, recursive = TRUE)\n",
    "\t\tmodel_checkpoint_name <- \"/{epoch:02d}E-{val_loss:.5f}vloss.hdf5\"\n",
    "\n",
    "\t\tcallbacks_list = list(\n",
    "\t\t\tcallback_tensorboard(\n",
    "\t\t\t\tlog_dir = log_run_dir,\n",
    "\t\t\t\thistogram_freq = 1 # Records activation histograms every 1 epoch\n",
    "\t\t\t\t# embeddings_freq = 1 # Records embedding data every 1 epoch\n",
    "\t\t\t),\n",
    "\t\t\t# callback_early_stopping(\n",
    "\t\t\t# \tmonitor = \"val_loss\",\n",
    "\t\t\t# \tpatience = 100\n",
    "\t\t\t# ),\n",
    "\t\t\tcallback_model_checkpoint(\n",
    "\t\t\t\tfilepath = paste0(model_checkpoint_dir, \"/\", model_checkpoint_name),\n",
    "\t\t\t\tmonitor = \"val_loss\"\n",
    "\t\t\t\t# save_best_only = TRUE # uncomment if u want to checkpoint only the best models, but when it's commented out, all models will be written (provided the model_checkpoint_dir name for each model varies w/ next epoch..)\n",
    "\t\t\t)\n",
    "\t\t)\n",
    "\n",
    "\t\thistory <- model %>% fit(\n",
    "\t\t\tdata_train, labels_train,\n",
    "\t\t\tepochs = parameters[[hyp_tune]]$epochs, batch_size = parameters[[hyp_tune]]$batch_size, # batch_size = 128, epochs = 500 for real run; epochs = i*ep for increasing number of epochs w/ iterations\n",
    "\t\t\tvalidation_data = list(data_val, labels_val), # computes loss and accuracy for validation data after every epoch\n",
    "\t\t\t# validation_split = 0.2,\n",
    "\t\t\tcallbacks = callbacks_list, # for TensorBoard logging\n",
    "\t\t\t# initial_epoch = 100, # TBD try, integer, Epoch at which to start training (useful for resuming a previous training run).\n",
    "\t\t\tverbose = 2\n",
    "\t\t)\n",
    "\n",
    "\t\t# dir.create(\"Workspaces/runs\", showWarnings = FALSE, recursive = TRUE)\n",
    "\t\tsave(what = model, name = model_name)\n",
    "\t}\n",
    "# }\n",
    "\n",
    "plot(history)\n",
    "\n",
    "\n",
    "#####################\n",
    "####### Notes #######\n",
    "#####################\n",
    "\n",
    "# TBD:\n",
    "\t# extensive hyperpar tuning once the code is scalable"
   ]
  }
 ],
 "metadata": {
  "kernelspec": {
   "display_name": "R",
   "language": "R",
   "name": "ir"
  },
  "language_info": {
   "codemirror_mode": "r",
   "file_extension": ".r",
   "mimetype": "text/x-r-source",
   "name": "R",
   "pygments_lexer": "r",
   "version": "3.6.1"
  }
 },
 "nbformat": 4,
 "nbformat_minor": 4
}
